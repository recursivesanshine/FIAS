{
 "cells": [
  {
   "cell_type": "code",
   "execution_count": null,
   "metadata": {},
   "outputs": [],
   "source": [
    "# Import required modules\n",
    "import subprocess"
   ]
  },
  {
   "cell_type": "markdown",
   "metadata": {},
   "source": [
    "## Step 1: Running `1_SmolVLM-Instruct.py`\n",
    "This step processes the images using `1_SmolVLM-Instruct.py`. The script generates a description of each image and saves the output in a file called `_output.csv`.\n",
    "\n",
    "SmolVLM python script uses the Staedel images to describes the image description with generative A.I.. "
   ]
  },
  {
   "cell_type": "code",
   "execution_count": null,
   "metadata": {},
   "outputs": [],
   "source": [
    "python 1_SmolVLM-Instruct.py image_path_or_folder \n",
    "“_output.csv”"
   ]
  },
  {
   "cell_type": "markdown",
   "metadata": {},
   "source": [
    "## Step 2: Running `2_metadata_keyword_extract.py`\n",
    "Then the Staedel’s XML metadata files keywords are extracted by categories motiv, picture element, association, atmosphere and emotion. The keywords are extracted to one summary file. "
   ]
  },
  {
   "cell_type": "code",
   "execution_count": null,
   "metadata": {},
   "outputs": [],
   "source": [
    "python 2_metadata_keyword_extract.py path_to_XML_file_or_folder\n",
    "”metadata_keyword_extract_complete.csv\""
   ]
  },
  {
   "cell_type": "markdown",
   "metadata": {},
   "source": [
    "## Step 3: Running `3_t5-large-summary-keywordgen.py`\n",
    "Then the t5-large-summary-keywordgen.py python script generates a smaller sum-mary of the image description in 125 characters and it extracts candidate keywords and classifies them to atmosphere and emotion, if they are adjectives, and picture elements, if they are noun chunks. The file name ends with “_output_analysis.txt”. So now we have two different files: A single data and a summary of extracted key-words from the Staedel’s metadata, that is human connotated and saved in the file format csv (metadata_keyword_extract_complete.csv), and the output of the t5-large LLM and facebook/bart-large-mnli LLM generated summary and list of can-didate keywords saved in a txt file type (_output_analysis.txt)."
   ]
  },
  {
   "cell_type": "code",
   "execution_count": null,
   "metadata": {},
   "outputs": [],
   "source": [
    "python 3_t5-large-summary-keywordgen.py ”output.csv” \n",
    "“_output_analysis.txt”"
   ]
  },
  {
   "cell_type": "markdown",
   "metadata": {},
   "source": [
    "## Step 4: Running `4_cross_encoder_metadata.py`\n",
    "In the output file “cross_encoded_summary.csv” for each keyword in the catego-ries atmosphere, emotion and elements of the picture from “_output_analysis.txt” file is being matched with the single summary file “metada-ta_keyword__extract_complete.csv” with the list of human connotated keywords from the Staedel’s metadata files. So for each query keyword from atmosphere from the A.I. generated file , there is a compared list of human keywords also from the same category atmosphere and a corresponding stochastically value between 0 and 1.00, that tells the rate of word embedding between the matching keywords."
   ]
  },
  {
   "cell_type": "code",
   "execution_count": null,
   "metadata": {},
   "outputs": [],
   "source": [
    "python 4_cross_encoder_metadata.py path/to/your/text_folder_or_file path/to/your/csv_metadata_file\n",
    "“cross_encoded_summary.csv”"
   ]
  },
  {
   "cell_type": "markdown",
   "metadata": {},
   "source": [
    "## Step 5: Running `5_cumulated_results_threshold.py`\n",
    "The threshold of the keywords from cross_encoded_summary.csv are being cut off at the percentage 0.50 and the higher values are still remaining. In the end we have the significant positive results and high outliers."
   ]
  },
  {
   "cell_type": "code",
   "execution_count": null,
   "metadata": {},
   "outputs": [],
   "source": [
    "python 5_cumulated_results_threshold.py \"cross_encoded_summary.csv\"\n",
    "cross_encoded_summary_threshold.csv"
   ]
  },
  {
   "cell_type": "markdown",
   "metadata": {},
   "source": [
    "## Step 6: Running `6_boxplot_total.py`\n",
    "This shows a boxplot image for each category atmosphere, emotion and picture el-ements and their distribution on a scale. Since we use cross_encoded_summary_threshold.csv with a threshold of 0.50 percentage, there are no entries below 0.49 percentage."
   ]
  },
  {
   "cell_type": "code",
   "execution_count": null,
   "metadata": {},
   "outputs": [],
   "source": [
    "python 6_boxplot_total.py cross_encoded_summary_threshold.csv\n",
    "cumulated_results_boxplot.png"
   ]
  },
  {
   "cell_type": "markdown",
   "metadata": {},
   "source": [
    "## Step 7: Running `7_metadata_keyword_extract_single.py`\n",
    "This 7_metadata_keyword_extract_single.py code is an alternative code from 2_metadata_keyword_extract.py that has as an input XML files in a folder and gives as an output for each csv files each image metadata. 2_metadata_keyword_extract.py gives out one summarized file with all keywords. We will use the single csv files for the next step."
   ]
  },
  {
   "cell_type": "code",
   "execution_count": null,
   "metadata": {},
   "outputs": [],
   "source": [
    "python 7_metadata_keyword_extract_single.py path/to/your/metadata/xml/folder\n",
    "\"thumb-xl.csv\""
   ]
  },
  {
   "cell_type": "markdown",
   "metadata": {},
   "source": [
    "## Step 8: Running `8_matching_last_keywords.py`\n"
   ]
  },
  {
   "cell_type": "code",
   "execution_count": null,
   "metadata": {},
   "outputs": [],
   "source": [
    "python 8_matching_last_keywords.py cross_encoded_summary_threshold.csv sub-sample100_seed=42/metadata\n",
    "updated_cross_encoded_summary.txt"
   ]
  },
  {
   "cell_type": "markdown",
   "metadata": {},
   "source": [
    "## Step 9: Running `9_matching_processing_results_file_name.py`\n"
   ]
  },
  {
   "cell_type": "code",
   "execution_count": null,
   "metadata": {},
   "outputs": [],
   "source": [
    "python 9_matching_processing_results_file_name.py updated_cross_encoded_summary.txt\n",
    "final_grouped_results.txt"
   ]
  }
 ],
 "metadata": {
  "kernelspec": {
   "display_name": "fias20250120",
   "language": "python",
   "name": "python3"
  },
  "language_info": {
   "name": "python",
   "version": "3.9.21"
  }
 },
 "nbformat": 4,
 "nbformat_minor": 2
}
